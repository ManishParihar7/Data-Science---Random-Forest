{
 "cells": [
  {
   "cell_type": "markdown",
   "id": "901d3197",
   "metadata": {},
   "source": [
    "## Problem number-1\n",
    "#### Use decision trees to prepare a model on fraud data treating those who have taxable_income <= 30000 as \"Risky\" and others are \"Good\""
   ]
  },
  {
   "cell_type": "code",
   "execution_count": 2,
   "id": "2ea3642a",
   "metadata": {},
   "outputs": [],
   "source": [
    "# Importing Libraries\n",
    "import pandas as pd\n",
    "import numpy as np\n",
    "import sklearn\n",
    "from sklearn.preprocessing import LabelEncoder\n",
    "from sklearn.model_selection import KFold\n",
    "from sklearn.model_selection import cross_val_score\n",
    "from sklearn.ensemble import RandomForestClassifier\n",
    "import matplotlib.pyplot as plt\n",
    "%matplotlib inline\n",
    "from sklearn.metrics import accuracy_score\n",
    "from sklearn import metrics\n",
    "from sklearn.tree import DecisionTreeClassifier \n",
    "from sklearn import preprocessing\n",
    "from sklearn.model_selection import train_test_split\n",
    "from sklearn import tree\n",
    "from sklearn.metrics import confusion_matrix"
   ]
  },
  {
   "cell_type": "code",
   "execution_count": 3,
   "id": "1b06f42f",
   "metadata": {},
   "outputs": [],
   "source": [
    "# Reading the dataset\n",
    "fraud = pd.read_csv('Fraud_check.csv')"
   ]
  },
  {
   "cell_type": "markdown",
   "id": "94910cf2",
   "metadata": {},
   "source": [
    "### EDA"
   ]
  },
  {
   "cell_type": "code",
   "execution_count": 4,
   "id": "56c1e6cd",
   "metadata": {},
   "outputs": [
    {
     "data": {
      "text/html": [
       "<div>\n",
       "<style scoped>\n",
       "    .dataframe tbody tr th:only-of-type {\n",
       "        vertical-align: middle;\n",
       "    }\n",
       "\n",
       "    .dataframe tbody tr th {\n",
       "        vertical-align: top;\n",
       "    }\n",
       "\n",
       "    .dataframe thead th {\n",
       "        text-align: right;\n",
       "    }\n",
       "</style>\n",
       "<table border=\"1\" class=\"dataframe\">\n",
       "  <thead>\n",
       "    <tr style=\"text-align: right;\">\n",
       "      <th></th>\n",
       "      <th>Undergrad</th>\n",
       "      <th>Marital.Status</th>\n",
       "      <th>Taxable.Income</th>\n",
       "      <th>City.Population</th>\n",
       "      <th>Work.Experience</th>\n",
       "      <th>Urban</th>\n",
       "    </tr>\n",
       "  </thead>\n",
       "  <tbody>\n",
       "    <tr>\n",
       "      <th>0</th>\n",
       "      <td>NO</td>\n",
       "      <td>Single</td>\n",
       "      <td>68833</td>\n",
       "      <td>50047</td>\n",
       "      <td>10</td>\n",
       "      <td>YES</td>\n",
       "    </tr>\n",
       "    <tr>\n",
       "      <th>1</th>\n",
       "      <td>YES</td>\n",
       "      <td>Divorced</td>\n",
       "      <td>33700</td>\n",
       "      <td>134075</td>\n",
       "      <td>18</td>\n",
       "      <td>YES</td>\n",
       "    </tr>\n",
       "    <tr>\n",
       "      <th>2</th>\n",
       "      <td>NO</td>\n",
       "      <td>Married</td>\n",
       "      <td>36925</td>\n",
       "      <td>160205</td>\n",
       "      <td>30</td>\n",
       "      <td>YES</td>\n",
       "    </tr>\n",
       "    <tr>\n",
       "      <th>3</th>\n",
       "      <td>YES</td>\n",
       "      <td>Single</td>\n",
       "      <td>50190</td>\n",
       "      <td>193264</td>\n",
       "      <td>15</td>\n",
       "      <td>YES</td>\n",
       "    </tr>\n",
       "    <tr>\n",
       "      <th>4</th>\n",
       "      <td>NO</td>\n",
       "      <td>Married</td>\n",
       "      <td>81002</td>\n",
       "      <td>27533</td>\n",
       "      <td>28</td>\n",
       "      <td>NO</td>\n",
       "    </tr>\n",
       "    <tr>\n",
       "      <th>5</th>\n",
       "      <td>NO</td>\n",
       "      <td>Divorced</td>\n",
       "      <td>33329</td>\n",
       "      <td>116382</td>\n",
       "      <td>0</td>\n",
       "      <td>NO</td>\n",
       "    </tr>\n",
       "    <tr>\n",
       "      <th>6</th>\n",
       "      <td>NO</td>\n",
       "      <td>Divorced</td>\n",
       "      <td>83357</td>\n",
       "      <td>80890</td>\n",
       "      <td>8</td>\n",
       "      <td>YES</td>\n",
       "    </tr>\n",
       "  </tbody>\n",
       "</table>\n",
       "</div>"
      ],
      "text/plain": [
       "  Undergrad Marital.Status  Taxable.Income  City.Population  Work.Experience  \\\n",
       "0        NO         Single           68833            50047               10   \n",
       "1       YES       Divorced           33700           134075               18   \n",
       "2        NO        Married           36925           160205               30   \n",
       "3       YES         Single           50190           193264               15   \n",
       "4        NO        Married           81002            27533               28   \n",
       "5        NO       Divorced           33329           116382                0   \n",
       "6        NO       Divorced           83357            80890                8   \n",
       "\n",
       "  Urban  \n",
       "0   YES  \n",
       "1   YES  \n",
       "2   YES  \n",
       "3   YES  \n",
       "4    NO  \n",
       "5    NO  \n",
       "6   YES  "
      ]
     },
     "execution_count": 4,
     "metadata": {},
     "output_type": "execute_result"
    }
   ],
   "source": [
    "fraud.head(7)"
   ]
  },
  {
   "cell_type": "code",
   "execution_count": 5,
   "id": "e0d24e60",
   "metadata": {},
   "outputs": [
    {
     "name": "stdout",
     "output_type": "stream",
     "text": [
      "<class 'pandas.core.frame.DataFrame'>\n",
      "RangeIndex: 600 entries, 0 to 599\n",
      "Data columns (total 6 columns):\n",
      " #   Column           Non-Null Count  Dtype \n",
      "---  ------           --------------  ----- \n",
      " 0   Undergrad        600 non-null    object\n",
      " 1   Marital.Status   600 non-null    object\n",
      " 2   Taxable.Income   600 non-null    int64 \n",
      " 3   City.Population  600 non-null    int64 \n",
      " 4   Work.Experience  600 non-null    int64 \n",
      " 5   Urban            600 non-null    object\n",
      "dtypes: int64(3), object(3)\n",
      "memory usage: 28.2+ KB\n"
     ]
    }
   ],
   "source": [
    "fraud.info()"
   ]
  },
  {
   "cell_type": "code",
   "execution_count": 6,
   "id": "36b7c6a1",
   "metadata": {},
   "outputs": [
    {
     "data": {
      "text/html": [
       "<div>\n",
       "<style scoped>\n",
       "    .dataframe tbody tr th:only-of-type {\n",
       "        vertical-align: middle;\n",
       "    }\n",
       "\n",
       "    .dataframe tbody tr th {\n",
       "        vertical-align: top;\n",
       "    }\n",
       "\n",
       "    .dataframe thead th {\n",
       "        text-align: right;\n",
       "    }\n",
       "</style>\n",
       "<table border=\"1\" class=\"dataframe\">\n",
       "  <thead>\n",
       "    <tr style=\"text-align: right;\">\n",
       "      <th></th>\n",
       "      <th>Taxable.Income</th>\n",
       "      <th>City.Population</th>\n",
       "      <th>Work.Experience</th>\n",
       "    </tr>\n",
       "  </thead>\n",
       "  <tbody>\n",
       "    <tr>\n",
       "      <th>count</th>\n",
       "      <td>600.000000</td>\n",
       "      <td>600.000000</td>\n",
       "      <td>600.000000</td>\n",
       "    </tr>\n",
       "    <tr>\n",
       "      <th>mean</th>\n",
       "      <td>55208.375000</td>\n",
       "      <td>108747.368333</td>\n",
       "      <td>15.558333</td>\n",
       "    </tr>\n",
       "    <tr>\n",
       "      <th>std</th>\n",
       "      <td>26204.827597</td>\n",
       "      <td>49850.075134</td>\n",
       "      <td>8.842147</td>\n",
       "    </tr>\n",
       "    <tr>\n",
       "      <th>min</th>\n",
       "      <td>10003.000000</td>\n",
       "      <td>25779.000000</td>\n",
       "      <td>0.000000</td>\n",
       "    </tr>\n",
       "    <tr>\n",
       "      <th>25%</th>\n",
       "      <td>32871.500000</td>\n",
       "      <td>66966.750000</td>\n",
       "      <td>8.000000</td>\n",
       "    </tr>\n",
       "    <tr>\n",
       "      <th>50%</th>\n",
       "      <td>55074.500000</td>\n",
       "      <td>106493.500000</td>\n",
       "      <td>15.000000</td>\n",
       "    </tr>\n",
       "    <tr>\n",
       "      <th>75%</th>\n",
       "      <td>78611.750000</td>\n",
       "      <td>150114.250000</td>\n",
       "      <td>24.000000</td>\n",
       "    </tr>\n",
       "    <tr>\n",
       "      <th>max</th>\n",
       "      <td>99619.000000</td>\n",
       "      <td>199778.000000</td>\n",
       "      <td>30.000000</td>\n",
       "    </tr>\n",
       "  </tbody>\n",
       "</table>\n",
       "</div>"
      ],
      "text/plain": [
       "       Taxable.Income  City.Population  Work.Experience\n",
       "count      600.000000       600.000000       600.000000\n",
       "mean     55208.375000    108747.368333        15.558333\n",
       "std      26204.827597     49850.075134         8.842147\n",
       "min      10003.000000     25779.000000         0.000000\n",
       "25%      32871.500000     66966.750000         8.000000\n",
       "50%      55074.500000    106493.500000        15.000000\n",
       "75%      78611.750000    150114.250000        24.000000\n",
       "max      99619.000000    199778.000000        30.000000"
      ]
     },
     "execution_count": 6,
     "metadata": {},
     "output_type": "execute_result"
    }
   ],
   "source": [
    "fraud.describe()"
   ]
  },
  {
   "cell_type": "code",
   "execution_count": 7,
   "id": "c899ba19",
   "metadata": {},
   "outputs": [
    {
     "data": {
      "text/plain": [
       "Undergrad          0\n",
       "Marital.Status     0\n",
       "Taxable.Income     0\n",
       "City.Population    0\n",
       "Work.Experience    0\n",
       "Urban              0\n",
       "dtype: int64"
      ]
     },
     "execution_count": 7,
     "metadata": {},
     "output_type": "execute_result"
    }
   ],
   "source": [
    "fraud.isnull().sum()"
   ]
  },
  {
   "cell_type": "code",
   "execution_count": 8,
   "id": "b2e8e889",
   "metadata": {},
   "outputs": [
    {
     "data": {
      "text/plain": [
       "(600, 6)"
      ]
     },
     "execution_count": 8,
     "metadata": {},
     "output_type": "execute_result"
    }
   ],
   "source": [
    "fraud.shape"
   ]
  },
  {
   "cell_type": "markdown",
   "id": "ac801c53",
   "metadata": {},
   "source": [
    "### Inference:\n",
    "From the above outputs we can see that there are 600 rows and 6 columns. There are no null values."
   ]
  },
  {
   "cell_type": "markdown",
   "id": "3543ef13",
   "metadata": {},
   "source": [
    "### Performing Feature Engineering"
   ]
  },
  {
   "cell_type": "code",
   "execution_count": 9,
   "id": "8b5e7e9c",
   "metadata": {},
   "outputs": [],
   "source": [
    "# Adding a new column\n",
    "fraud['Fraud_Check'] = pd.cut(fraud['Taxable.Income'], bins=[0, 30000, 1000000], labels=['Risk', 'No Risk'])"
   ]
  },
  {
   "cell_type": "code",
   "execution_count": 10,
   "id": "974ba346",
   "metadata": {},
   "outputs": [
    {
     "data": {
      "text/plain": [
       "array(['No Risk', 'Risk'], dtype=object)"
      ]
     },
     "execution_count": 10,
     "metadata": {},
     "output_type": "execute_result"
    }
   ],
   "source": [
    "# Unique values\n",
    "np.unique(fraud[\"Fraud_Check\"])"
   ]
  },
  {
   "cell_type": "code",
   "execution_count": 11,
   "id": "5afe365b",
   "metadata": {},
   "outputs": [
    {
     "data": {
      "text/plain": [
       "No Risk    476\n",
       "Risk       124\n",
       "Name: Fraud_Check, dtype: int64"
      ]
     },
     "execution_count": 11,
     "metadata": {},
     "output_type": "execute_result"
    }
   ],
   "source": [
    "fraud[\"Fraud_Check\"].value_counts()"
   ]
  },
  {
   "cell_type": "markdown",
   "id": "0b5067ef",
   "metadata": {},
   "source": [
    "### Label Encoding"
   ]
  },
  {
   "cell_type": "code",
   "execution_count": 12,
   "id": "808c73b7",
   "metadata": {},
   "outputs": [],
   "source": [
    "label_encoder = preprocessing.LabelEncoder()"
   ]
  },
  {
   "cell_type": "code",
   "execution_count": 13,
   "id": "abf09747",
   "metadata": {},
   "outputs": [],
   "source": [
    "fraud['Undergrad']= label_encoder.fit_transform(fraud['Undergrad'])\n",
    "fraud['Marital.Status']= label_encoder.fit_transform(fraud['Marital.Status'])\n",
    "fraud['Urban']= label_encoder.fit_transform(fraud['Urban'])\n",
    "fraud['Fraud_Check']= label_encoder.fit_transform(fraud['Fraud_Check'])"
   ]
  },
  {
   "cell_type": "code",
   "execution_count": 14,
   "id": "32fd1af6",
   "metadata": {},
   "outputs": [],
   "source": [
    "fraud_mod=fraud"
   ]
  },
  {
   "cell_type": "code",
   "execution_count": 15,
   "id": "6104712e",
   "metadata": {},
   "outputs": [
    {
     "data": {
      "text/html": [
       "<div>\n",
       "<style scoped>\n",
       "    .dataframe tbody tr th:only-of-type {\n",
       "        vertical-align: middle;\n",
       "    }\n",
       "\n",
       "    .dataframe tbody tr th {\n",
       "        vertical-align: top;\n",
       "    }\n",
       "\n",
       "    .dataframe thead th {\n",
       "        text-align: right;\n",
       "    }\n",
       "</style>\n",
       "<table border=\"1\" class=\"dataframe\">\n",
       "  <thead>\n",
       "    <tr style=\"text-align: right;\">\n",
       "      <th></th>\n",
       "      <th>Undergrad</th>\n",
       "      <th>Marital.Status</th>\n",
       "      <th>Taxable.Income</th>\n",
       "      <th>City.Population</th>\n",
       "      <th>Work.Experience</th>\n",
       "      <th>Urban</th>\n",
       "      <th>Fraud_Check</th>\n",
       "    </tr>\n",
       "  </thead>\n",
       "  <tbody>\n",
       "    <tr>\n",
       "      <th>0</th>\n",
       "      <td>0</td>\n",
       "      <td>2</td>\n",
       "      <td>68833</td>\n",
       "      <td>50047</td>\n",
       "      <td>10</td>\n",
       "      <td>1</td>\n",
       "      <td>0</td>\n",
       "    </tr>\n",
       "    <tr>\n",
       "      <th>1</th>\n",
       "      <td>1</td>\n",
       "      <td>0</td>\n",
       "      <td>33700</td>\n",
       "      <td>134075</td>\n",
       "      <td>18</td>\n",
       "      <td>1</td>\n",
       "      <td>0</td>\n",
       "    </tr>\n",
       "    <tr>\n",
       "      <th>2</th>\n",
       "      <td>0</td>\n",
       "      <td>1</td>\n",
       "      <td>36925</td>\n",
       "      <td>160205</td>\n",
       "      <td>30</td>\n",
       "      <td>1</td>\n",
       "      <td>0</td>\n",
       "    </tr>\n",
       "    <tr>\n",
       "      <th>3</th>\n",
       "      <td>1</td>\n",
       "      <td>2</td>\n",
       "      <td>50190</td>\n",
       "      <td>193264</td>\n",
       "      <td>15</td>\n",
       "      <td>1</td>\n",
       "      <td>0</td>\n",
       "    </tr>\n",
       "    <tr>\n",
       "      <th>4</th>\n",
       "      <td>0</td>\n",
       "      <td>1</td>\n",
       "      <td>81002</td>\n",
       "      <td>27533</td>\n",
       "      <td>28</td>\n",
       "      <td>0</td>\n",
       "      <td>0</td>\n",
       "    </tr>\n",
       "    <tr>\n",
       "      <th>5</th>\n",
       "      <td>0</td>\n",
       "      <td>0</td>\n",
       "      <td>33329</td>\n",
       "      <td>116382</td>\n",
       "      <td>0</td>\n",
       "      <td>0</td>\n",
       "      <td>0</td>\n",
       "    </tr>\n",
       "    <tr>\n",
       "      <th>6</th>\n",
       "      <td>0</td>\n",
       "      <td>0</td>\n",
       "      <td>83357</td>\n",
       "      <td>80890</td>\n",
       "      <td>8</td>\n",
       "      <td>1</td>\n",
       "      <td>0</td>\n",
       "    </tr>\n",
       "  </tbody>\n",
       "</table>\n",
       "</div>"
      ],
      "text/plain": [
       "   Undergrad  Marital.Status  Taxable.Income  City.Population  \\\n",
       "0          0               2           68833            50047   \n",
       "1          1               0           33700           134075   \n",
       "2          0               1           36925           160205   \n",
       "3          1               2           50190           193264   \n",
       "4          0               1           81002            27533   \n",
       "5          0               0           33329           116382   \n",
       "6          0               0           83357            80890   \n",
       "\n",
       "   Work.Experience  Urban  Fraud_Check  \n",
       "0               10      1            0  \n",
       "1               18      1            0  \n",
       "2               30      1            0  \n",
       "3               15      1            0  \n",
       "4               28      0            0  \n",
       "5                0      0            0  \n",
       "6                8      1            0  "
      ]
     },
     "execution_count": 15,
     "metadata": {},
     "output_type": "execute_result"
    }
   ],
   "source": [
    "fraud_mod.head(7)"
   ]
  },
  {
   "cell_type": "code",
   "execution_count": 16,
   "id": "ee89cd73",
   "metadata": {},
   "outputs": [
    {
     "data": {
      "text/plain": [
       "0    476\n",
       "1    124\n",
       "Name: Fraud_Check, dtype: int64"
      ]
     },
     "execution_count": 16,
     "metadata": {},
     "output_type": "execute_result"
    }
   ],
   "source": [
    "fraud_mod[\"Fraud_Check\"].value_counts()"
   ]
  },
  {
   "cell_type": "code",
   "execution_count": 17,
   "id": "aa79f438",
   "metadata": {},
   "outputs": [
    {
     "data": {
      "text/plain": [
       "1    302\n",
       "0    298\n",
       "Name: Urban, dtype: int64"
      ]
     },
     "execution_count": 17,
     "metadata": {},
     "output_type": "execute_result"
    }
   ],
   "source": [
    "fraud_mod[\"Urban\"].value_counts()"
   ]
  },
  {
   "cell_type": "code",
   "execution_count": 18,
   "id": "0bdd1d5b",
   "metadata": {},
   "outputs": [
    {
     "data": {
      "text/plain": [
       "2    217\n",
       "1    194\n",
       "0    189\n",
       "Name: Marital.Status, dtype: int64"
      ]
     },
     "execution_count": 18,
     "metadata": {},
     "output_type": "execute_result"
    }
   ],
   "source": [
    "fraud_mod[\"Marital.Status\"].value_counts()\n"
   ]
  },
  {
   "cell_type": "code",
   "execution_count": 19,
   "id": "08601f2d",
   "metadata": {},
   "outputs": [
    {
     "data": {
      "text/plain": [
       "1    312\n",
       "0    288\n",
       "Name: Undergrad, dtype: int64"
      ]
     },
     "execution_count": 19,
     "metadata": {},
     "output_type": "execute_result"
    }
   ],
   "source": [
    "fraud_mod[\"Undergrad\"].value_counts()"
   ]
  },
  {
   "cell_type": "markdown",
   "id": "8931f16b",
   "metadata": {},
   "source": [
    "### Splitting the dataset"
   ]
  },
  {
   "cell_type": "code",
   "execution_count": 20,
   "id": "4c52e05c",
   "metadata": {},
   "outputs": [],
   "source": [
    "X=fraud_mod.iloc[:,0:-1]\n",
    "y=fraud_mod.iloc[:,-1]"
   ]
  },
  {
   "cell_type": "code",
   "execution_count": 22,
   "id": "719f28da",
   "metadata": {},
   "outputs": [],
   "source": [
    "# Splitting the dataset into Training and Testing"
   ]
  },
  {
   "cell_type": "code",
   "execution_count": 32,
   "id": "9cd98ae8",
   "metadata": {},
   "outputs": [],
   "source": [
    "X_train, X_test, y_train, y_test = train_test_split(X, y, test_size = 0.3, random_state = 42)"
   ]
  },
  {
   "cell_type": "markdown",
   "id": "10f61354",
   "metadata": {},
   "source": [
    "### Model Building"
   ]
  },
  {
   "cell_type": "markdown",
   "id": "529cccc8",
   "metadata": {},
   "source": [
    "#### Random Forest Classifier"
   ]
  },
  {
   "cell_type": "code",
   "execution_count": 33,
   "id": "e6ceecd7",
   "metadata": {},
   "outputs": [],
   "source": [
    "num_trees = 100\n",
    "max_features = 3\n",
    "first_model = RandomForestClassifier(n_estimators=num_trees,max_features=max_features)"
   ]
  },
  {
   "cell_type": "code",
   "execution_count": 34,
   "id": "3dfd16d7",
   "metadata": {},
   "outputs": [
    {
     "name": "stdout",
     "output_type": "stream",
     "text": [
      "Accuracy is: 0.9976190476190476\n"
     ]
    }
   ],
   "source": [
    "# Evaluate the base model(without hypertuning)\n",
    "from sklearn.model_selection import StratifiedKFold\n",
    "cv = StratifiedKFold(n_splits=10,shuffle=True)\n",
    "result = cross_val_score(first_model, X_train, y_train,cv=cv)\n",
    "print(\"Accuracy is:\",np.mean(result))"
   ]
  },
  {
   "cell_type": "markdown",
   "id": "e9144fcf",
   "metadata": {},
   "source": [
    "### Inference:\n",
    "The results indicate that the base model's average accuracy, without any hyperparameter adjustment, is roughly 0.997 or 99.7%.\n",
    "\n",
    "This shows that the base model has a very high accuracy score on the training data and works incredibly well. It's crucial to remember that this high accuracy could be a sign of data leaking or overfitting, particularly if the model has access to the same training data during hyperparameter tuning. For a more accurate assessment, it is essential to validate the model's performance using test data that hasn't been seen before.\n"
   ]
  },
  {
   "cell_type": "code",
   "execution_count": 36,
   "id": "cd20609b",
   "metadata": {},
   "outputs": [],
   "source": [
    "# Iterating over a range of folds in StratifiedKFold\n",
    "mean_accuracy=[]\n",
    "n_folds=[]\n",
    "\n",
    "for i in range(2,15):\n",
    "    cv2=StratifiedKFold(n_splits=i,shuffle=True,random_state=20)\n",
    "    result = cross_val_score(first_model, X_train, y_train, cv=cv2)\n",
    "    avg=np.mean(result)\n",
    "    mean_accuracy.append(avg)\n",
    "    n_folds.append(i)"
   ]
  },
  {
   "cell_type": "markdown",
   "id": "82755b7f",
   "metadata": {},
   "source": [
    "### Visualization"
   ]
  },
  {
   "cell_type": "markdown",
   "id": "4e087ee3",
   "metadata": {},
   "source": [
    "#### Lineplot"
   ]
  },
  {
   "cell_type": "code",
   "execution_count": 37,
   "id": "eff547a5",
   "metadata": {},
   "outputs": [
    {
     "data": {
      "text/plain": [
       "<Axes: >"
      ]
     },
     "execution_count": 37,
     "metadata": {},
     "output_type": "execute_result"
    },
    {
     "data": {
      "image/png": "[encoded data removed]",
      "text/plain": [
       "<Figure size 640x480 with 1 Axes>"
      ]
     },
     "metadata": {},
     "output_type": "display_data"
    }
   ],
   "source": [
    "import seaborn as sns\n",
    "sns.lineplot(x=n_folds,y=mean_accuracy)"
   ]
  },
  {
   "cell_type": "code",
   "execution_count": 38,
   "id": "ee03b0ef",
   "metadata": {},
   "outputs": [
    {
     "data": {
      "text/plain": [
       "array([0.00149538, 0.00399516, 0.96743309, 0.01544303, 0.01060951,\n",
       "       0.00102382])"
      ]
     },
     "execution_count": 38,
     "metadata": {},
     "output_type": "execute_result"
    }
   ],
   "source": [
    "# Fitting the model\n",
    "first_model.fit(X_train,y_train)\n",
    "first_model.feature_importances_"
   ]
  },
  {
   "cell_type": "markdown",
   "id": "b8b4b843",
   "metadata": {},
   "source": [
    "### Inference:\n",
    "There is a list of feature importances in the output that is given. The relevance of each individual characteristic in the dataset is represented by a value in the array. The more significant a trait is in making predictions, the greater the value.\n",
    "\n",
    "The six-element array of feature importances indicates that there are six features in the dataset used to train the model.\n",
    "\n",
    "The feature importances are displayed in the dataset's features' original order. For instance, the relevance of the first feature is represented by the first number (0.00149538), the importance of the second feature is represented by the second value (0.00399516), and so on.\n",
    "\n",
    "The third feature in the dataset has the highest importance, according to the specified feature importances, with a value of 0.9674. Other features are comparatively less significant. It implies that the third attribute has the greatest impact on predictions made using this model."
   ]
  },
  {
   "cell_type": "markdown",
   "id": "d3e2dbd0",
   "metadata": {},
   "source": [
    "### Getting the Important Features"
   ]
  },
  {
   "cell_type": "code",
   "execution_count": 39,
   "id": "f3542953",
   "metadata": {},
   "outputs": [
    {
     "data": {
      "text/plain": [
       "Taxable.Income     0.967433\n",
       "City.Population    0.015443\n",
       "Work.Experience    0.010610\n",
       "Marital.Status     0.003995\n",
       "Undergrad          0.001495\n",
       "Urban              0.001024\n",
       "dtype: float64"
      ]
     },
     "execution_count": 39,
     "metadata": {},
     "output_type": "execute_result"
    }
   ],
   "source": [
    "cols=[\"Undergrad\",\"Marital.Status\",\"Taxable.Income\",\"City.Population\",\"Work.Experience\",\"Urban\"]\n",
    "feature_imp=pd.Series(first_model.feature_importances_,index=cols).sort_values(ascending=False)\n",
    "feature_imp"
   ]
  },
  {
   "cell_type": "markdown",
   "id": "2246f388",
   "metadata": {},
   "source": [
    "### Visualization"
   ]
  },
  {
   "cell_type": "markdown",
   "id": "68459518",
   "metadata": {},
   "source": [
    "#### Bar Plot"
   ]
  },
  {
   "cell_type": "code",
   "execution_count": 40,
   "id": "e820fbd9",
   "metadata": {},
   "outputs": [
    {
     "data": {
      "image/png": "[encoded data removed]",
      "text/plain": [
       "<Figure size 640x480 with 1 Axes>"
      ]
     },
     "metadata": {},
     "output_type": "display_data"
    }
   ],
   "source": [
    "sns.barplot(y=feature_imp, x=feature_imp.index)\n",
    "# Add labels to your graph\n",
    "plt.ylabel('Feature Importance Score')\n",
    "plt.xlabel('Features')\n",
    "plt.xticks(rotation=90)\n",
    "\n",
    "plt.title(\"Visualizing Important Features\")\n",
    "plt.show()"
   ]
  },
  {
   "cell_type": "markdown",
   "id": "665d2e55",
   "metadata": {},
   "source": [
    "### Prediction"
   ]
  },
  {
   "cell_type": "code",
   "execution_count": 41,
   "id": "b49a0ada",
   "metadata": {},
   "outputs": [
    {
     "data": {
      "text/plain": [
       "0    143\n",
       "1     37\n",
       "dtype: int64"
      ]
     },
     "execution_count": 41,
     "metadata": {},
     "output_type": "execute_result"
    }
   ],
   "source": [
    "pred_first = first_model.predict(X_test) \n",
    "pd.Series(pred_first).value_counts()"
   ]
  },
  {
   "cell_type": "code",
   "execution_count": 42,
   "id": "6b262c21",
   "metadata": {},
   "outputs": [
    {
     "data": {
      "text/plain": [
       "1.0"
      ]
     },
     "execution_count": 42,
     "metadata": {},
     "output_type": "execute_result"
    }
   ],
   "source": [
    "# Accuracy\n",
    "from sklearn import metrics\n",
    "metrics.accuracy_score(pred_first,y_test)"
   ]
  },
  {
   "cell_type": "markdown",
   "id": "dc53560f",
   "metadata": {},
   "source": [
    "### Inference:\n",
    "A flawless precision is shown by the estimated accuracy score of 1.0.\n",
    "\n",
    "This data reveals that, in the provided code snippet, the predicted values (pred_first) exactly match the genuine target values (y_test). It suggests that the model's predictions and actual values are perfectly in line, giving it a flawless accuracy rating.\n",
    "\n",
    "\n",
    "However, it's vital to proceed with care when seeing a 100% accuracy score, as this could be a sign of overfitting, data leaking, or a tiny and unrepresentative test sample, among other potential problems.\n"
   ]
  },
  {
   "cell_type": "code",
   "execution_count": 43,
   "id": "c0524177",
   "metadata": {},
   "outputs": [
    {
     "name": "stdout",
     "output_type": "stream",
     "text": [
      "              precision    recall  f1-score   support\n",
      "\n",
      "           0       1.00      1.00      1.00       143\n",
      "           1       1.00      1.00      1.00        37\n",
      "\n",
      "    accuracy                           1.00       180\n",
      "   macro avg       1.00      1.00      1.00       180\n",
      "weighted avg       1.00      1.00      1.00       180\n",
      "\n"
     ]
    }
   ],
   "source": [
    "from sklearn.metrics import classification_report\n",
    "print(classification_report(y_test,pred_first))"
   ]
  },
  {
   "cell_type": "markdown",
   "id": "d2575bf2",
   "metadata": {},
   "source": [
    "### Inference:\n",
    "Performance indicators are provided for each class in the target variable in the classification report.\n",
    "\n",
    "\n",
    "In this instance, two classes with the designations 0 and 1 exist.\n",
    "\n",
    "Out of all positive predictions made for each class, the \"precision\" counts the percentage of real positive predictions. The precision in this instance is 1.00, meaning that all positive predictions are accurate for both classes.\n",
    "\n",
    "The \"recall\" (sometimes referred to as the \"sensitivity\" or \"true positive rate\") calculates the percentage of true positive predictions for each class out of all real positive instances. All actual positive examples are correctly identified, as shown by the recall for both classes being 1.00.\n",
    "\n",
    "The \"f1-score\" provides a balanced measurement of both metrics and is the harmonic mean of precision and recall. For both classes, the f1-score is 1.00, signifying perfect performance.\n",
    "\n",
    "The \"support\" in the test data represents the number of samples in each class.\n",
    "\n",
    "Additionally, \"accuracy\" is reported and is determined by dividing the total number of forecasts made by the proportion of predictions that were accurate. The accuracy in this instance is 1.00, which denotes flawless accuracy.\n",
    "\n",
    "The average marks for each class are the \"macro avg\" and \"weighted avg.\" The macro average and weighted average scores are both perfect (1.00) in this instance since there are the same amount of samples for each classes.\n",
    "\n",
    "The model has flawless precision, recall, f1-score, and accuracy on the test data for both classes, according to the classification report. The achievement of flawless scores can be the result of overfitting, data leaking, or having a tiny and unrepresentative test set, so it's vital to evaluate these results cautiously. To gain a more thorough knowledge of the model's performance, it is advised to evaluate the model's performance on larger and more varied datasets or to use additional assessment metrics.\n"
   ]
  },
  {
   "cell_type": "code",
   "execution_count": 44,
   "id": "66ca73e6",
   "metadata": {},
   "outputs": [
    {
     "data": {
      "text/plain": [
       "array([[143,   0],\n",
       "       [  0,  37]], dtype=int64)"
      ]
     },
     "execution_count": 44,
     "metadata": {},
     "output_type": "execute_result"
    }
   ],
   "source": [
    "confusion_matrix(y_test,pred_first)"
   ]
  },
  {
   "cell_type": "markdown",
   "id": "b9199856",
   "metadata": {},
   "source": [
    "### Inference:\n",
    "The number of samples that were properly or wrongly predicted for each class is counted in the confusion matrix, a table that summarises the effectiveness of a classification model.\n",
    "\n",
    "The genuine classes are represented by the rows in the confusion matrix, while the anticipated classes are represented by the columns.\n",
    "\n",
    "As there are two classes (0 and 1) in the target variable in this instance, the confusion matrix is a 2x2 matrix.\n",
    "\n",
    "The confusion matrix can be interpreted as follows:\n",
    "\n",
    "The model did not identify any samples as either class 1 (false positives) or class 0 (false negatives) for class 0, but it accurately predicted 143 samples (true negatives) for class 0.\n",
    "\n",
    "The model did not forecast any samples as class 0 (false positives) or class 1 (false negatives) for class 1, but it accurately predicted 41 samples (true positives) for class 1.\n",
    "\n",
    "The model has achieved perfect predictions for both classes, according to the confusion matrix. All samples for classes 0 and 1 are properly predicted, resulting in a confusion matrix with all non-zero values on the diagonal.\n",
    "\n",
    "This shows that the model performs flawlessly as measured by the confusion matrix, with predictions that are exactly in line with the actual target values. As was previously said, it is crucial to proceed with caution when seeing ideal findings because they could be an indication of future problems like overfitting or data leakage.\n"
   ]
  },
  {
   "cell_type": "code",
   "execution_count": null,
   "id": "f126d5a8",
   "metadata": {},
   "outputs": [],
   "source": []
  },
  {
   "cell_type": "markdown",
   "id": "8b4c2add",
   "metadata": {},
   "source": [
    "## 2.Problem Statement:\n",
    "#### A cloth manufacturing company is interested to know about the segment or attributes causes high sale. Approach - A Random Forest can be built with target variable Sales (we will first convert it in categorical variable) & all other variable will be independent in the analysis."
   ]
  },
  {
   "cell_type": "code",
   "execution_count": 45,
   "id": "e65692da",
   "metadata": {},
   "outputs": [],
   "source": [
    "import pandas as pd\n",
    "import matplotlib.pyplot as plt\n",
    "from sklearn import datasets  \n",
    "import numpy as np\n",
    "from sklearn.model_selection import train_test_split\n",
    "from sklearn.metrics import classification_report\n",
    "from sklearn import preprocessing\n",
    "from sklearn import metrics\n",
    "from sklearn.model_selection import KFold\n",
    "from sklearn.model_selection import cross_val_score\n",
    "from sklearn.ensemble import RandomForestClassifier"
   ]
  },
  {
   "cell_type": "code",
   "execution_count": 46,
   "id": "b8960382",
   "metadata": {},
   "outputs": [],
   "source": [
    "# Reading the dataset\n",
    "company = pd.read_csv(\"Company_Data.csv\")"
   ]
  },
  {
   "cell_type": "markdown",
   "id": "e3988237",
   "metadata": {},
   "source": [
    "### Converting Sales data into 3 categories"
   ]
  },
  {
   "cell_type": "code",
   "execution_count": 47,
   "id": "3cd2ed8d",
   "metadata": {},
   "outputs": [
    {
     "data": {
      "text/plain": [
       "array([ 0.        ,  5.42333333, 10.84666667, 16.27      ])"
      ]
     },
     "execution_count": 47,
     "metadata": {},
     "output_type": "execute_result"
    }
   ],
   "source": [
    "bins = np.linspace(min(company['Sales']), max(company['Sales']),4)\n",
    "bins"
   ]
  },
  {
   "cell_type": "code",
   "execution_count": 48,
   "id": "0e3e87bc",
   "metadata": {},
   "outputs": [],
   "source": [
    "# 3 Categories (low, Medium and High)\n",
    "label_names = ['Low', 'Medium', 'High']"
   ]
  },
  {
   "cell_type": "code",
   "execution_count": 49,
   "id": "3b5a0a80",
   "metadata": {},
   "outputs": [
    {
     "data": {
      "text/html": [
       "<div>\n",
       "<style scoped>\n",
       "    .dataframe tbody tr th:only-of-type {\n",
       "        vertical-align: middle;\n",
       "    }\n",
       "\n",
       "    .dataframe tbody tr th {\n",
       "        vertical-align: top;\n",
       "    }\n",
       "\n",
       "    .dataframe thead th {\n",
       "        text-align: right;\n",
       "    }\n",
       "</style>\n",
       "<table border=\"1\" class=\"dataframe\">\n",
       "  <thead>\n",
       "    <tr style=\"text-align: right;\">\n",
       "      <th></th>\n",
       "      <th>Sales</th>\n",
       "      <th>Sales_bin</th>\n",
       "    </tr>\n",
       "  </thead>\n",
       "  <tbody>\n",
       "    <tr>\n",
       "      <th>0</th>\n",
       "      <td>9.50</td>\n",
       "      <td>Medium</td>\n",
       "    </tr>\n",
       "    <tr>\n",
       "      <th>1</th>\n",
       "      <td>11.22</td>\n",
       "      <td>High</td>\n",
       "    </tr>\n",
       "    <tr>\n",
       "      <th>2</th>\n",
       "      <td>10.06</td>\n",
       "      <td>Medium</td>\n",
       "    </tr>\n",
       "    <tr>\n",
       "      <th>3</th>\n",
       "      <td>7.40</td>\n",
       "      <td>Medium</td>\n",
       "    </tr>\n",
       "    <tr>\n",
       "      <th>4</th>\n",
       "      <td>4.15</td>\n",
       "      <td>Low</td>\n",
       "    </tr>\n",
       "    <tr>\n",
       "      <th>5</th>\n",
       "      <td>10.81</td>\n",
       "      <td>Medium</td>\n",
       "    </tr>\n",
       "    <tr>\n",
       "      <th>6</th>\n",
       "      <td>6.63</td>\n",
       "      <td>Medium</td>\n",
       "    </tr>\n",
       "    <tr>\n",
       "      <th>7</th>\n",
       "      <td>11.85</td>\n",
       "      <td>High</td>\n",
       "    </tr>\n",
       "    <tr>\n",
       "      <th>8</th>\n",
       "      <td>6.54</td>\n",
       "      <td>Medium</td>\n",
       "    </tr>\n",
       "    <tr>\n",
       "      <th>9</th>\n",
       "      <td>4.69</td>\n",
       "      <td>Low</td>\n",
       "    </tr>\n",
       "  </tbody>\n",
       "</table>\n",
       "</div>"
      ],
      "text/plain": [
       "   Sales Sales_bin\n",
       "0   9.50    Medium\n",
       "1  11.22      High\n",
       "2  10.06    Medium\n",
       "3   7.40    Medium\n",
       "4   4.15       Low\n",
       "5  10.81    Medium\n",
       "6   6.63    Medium\n",
       "7  11.85      High\n",
       "8   6.54    Medium\n",
       "9   4.69       Low"
      ]
     },
     "execution_count": 49,
     "metadata": {},
     "output_type": "execute_result"
    }
   ],
   "source": [
    "company['Sales_bin'] = pd.cut(company['Sales'], bins, labels=label_names, include_lowest=True )\n",
    "company[['Sales','Sales_bin']].head(10)"
   ]
  },
  {
   "cell_type": "markdown",
   "id": "3c632d9a",
   "metadata": {},
   "source": [
    "### EDA"
   ]
  },
  {
   "cell_type": "code",
   "execution_count": 50,
   "id": "2cfb1027",
   "metadata": {},
   "outputs": [
    {
     "data": {
      "text/html": [
       "<div>\n",
       "<style scoped>\n",
       "    .dataframe tbody tr th:only-of-type {\n",
       "        vertical-align: middle;\n",
       "    }\n",
       "\n",
       "    .dataframe tbody tr th {\n",
       "        vertical-align: top;\n",
       "    }\n",
       "\n",
       "    .dataframe thead th {\n",
       "        text-align: right;\n",
       "    }\n",
       "</style>\n",
       "<table border=\"1\" class=\"dataframe\">\n",
       "  <thead>\n",
       "    <tr style=\"text-align: right;\">\n",
       "      <th></th>\n",
       "      <th>Sales</th>\n",
       "      <th>CompPrice</th>\n",
       "      <th>Income</th>\n",
       "      <th>Advertising</th>\n",
       "      <th>Population</th>\n",
       "      <th>Price</th>\n",
       "      <th>ShelveLoc</th>\n",
       "      <th>Age</th>\n",
       "      <th>Education</th>\n",
       "      <th>Urban</th>\n",
       "      <th>US</th>\n",
       "      <th>Sales_bin</th>\n",
       "    </tr>\n",
       "  </thead>\n",
       "  <tbody>\n",
       "    <tr>\n",
       "      <th>0</th>\n",
       "      <td>9.50</td>\n",
       "      <td>138</td>\n",
       "      <td>73</td>\n",
       "      <td>11</td>\n",
       "      <td>276</td>\n",
       "      <td>120</td>\n",
       "      <td>Bad</td>\n",
       "      <td>42</td>\n",
       "      <td>17</td>\n",
       "      <td>Yes</td>\n",
       "      <td>Yes</td>\n",
       "      <td>Medium</td>\n",
       "    </tr>\n",
       "    <tr>\n",
       "      <th>1</th>\n",
       "      <td>11.22</td>\n",
       "      <td>111</td>\n",
       "      <td>48</td>\n",
       "      <td>16</td>\n",
       "      <td>260</td>\n",
       "      <td>83</td>\n",
       "      <td>Good</td>\n",
       "      <td>65</td>\n",
       "      <td>10</td>\n",
       "      <td>Yes</td>\n",
       "      <td>Yes</td>\n",
       "      <td>High</td>\n",
       "    </tr>\n",
       "    <tr>\n",
       "      <th>2</th>\n",
       "      <td>10.06</td>\n",
       "      <td>113</td>\n",
       "      <td>35</td>\n",
       "      <td>10</td>\n",
       "      <td>269</td>\n",
       "      <td>80</td>\n",
       "      <td>Medium</td>\n",
       "      <td>59</td>\n",
       "      <td>12</td>\n",
       "      <td>Yes</td>\n",
       "      <td>Yes</td>\n",
       "      <td>Medium</td>\n",
       "    </tr>\n",
       "    <tr>\n",
       "      <th>3</th>\n",
       "      <td>7.40</td>\n",
       "      <td>117</td>\n",
       "      <td>100</td>\n",
       "      <td>4</td>\n",
       "      <td>466</td>\n",
       "      <td>97</td>\n",
       "      <td>Medium</td>\n",
       "      <td>55</td>\n",
       "      <td>14</td>\n",
       "      <td>Yes</td>\n",
       "      <td>Yes</td>\n",
       "      <td>Medium</td>\n",
       "    </tr>\n",
       "    <tr>\n",
       "      <th>4</th>\n",
       "      <td>4.15</td>\n",
       "      <td>141</td>\n",
       "      <td>64</td>\n",
       "      <td>3</td>\n",
       "      <td>340</td>\n",
       "      <td>128</td>\n",
       "      <td>Bad</td>\n",
       "      <td>38</td>\n",
       "      <td>13</td>\n",
       "      <td>Yes</td>\n",
       "      <td>No</td>\n",
       "      <td>Low</td>\n",
       "    </tr>\n",
       "    <tr>\n",
       "      <th>5</th>\n",
       "      <td>10.81</td>\n",
       "      <td>124</td>\n",
       "      <td>113</td>\n",
       "      <td>13</td>\n",
       "      <td>501</td>\n",
       "      <td>72</td>\n",
       "      <td>Bad</td>\n",
       "      <td>78</td>\n",
       "      <td>16</td>\n",
       "      <td>No</td>\n",
       "      <td>Yes</td>\n",
       "      <td>Medium</td>\n",
       "    </tr>\n",
       "    <tr>\n",
       "      <th>6</th>\n",
       "      <td>6.63</td>\n",
       "      <td>115</td>\n",
       "      <td>105</td>\n",
       "      <td>0</td>\n",
       "      <td>45</td>\n",
       "      <td>108</td>\n",
       "      <td>Medium</td>\n",
       "      <td>71</td>\n",
       "      <td>15</td>\n",
       "      <td>Yes</td>\n",
       "      <td>No</td>\n",
       "      <td>Medium</td>\n",
       "    </tr>\n",
       "  </tbody>\n",
       "</table>\n",
       "</div>"
      ],
      "text/plain": [
       "   Sales  CompPrice  Income  Advertising  Population  Price ShelveLoc  Age  \\\n",
       "0   9.50        138      73           11         276    120       Bad   42   \n",
       "1  11.22        111      48           16         260     83      Good   65   \n",
       "2  10.06        113      35           10         269     80    Medium   59   \n",
       "3   7.40        117     100            4         466     97    Medium   55   \n",
       "4   4.15        141      64            3         340    128       Bad   38   \n",
       "5  10.81        124     113           13         501     72       Bad   78   \n",
       "6   6.63        115     105            0          45    108    Medium   71   \n",
       "\n",
       "   Education Urban   US Sales_bin  \n",
       "0         17   Yes  Yes    Medium  \n",
       "1         10   Yes  Yes      High  \n",
       "2         12   Yes  Yes    Medium  \n",
       "3         14   Yes  Yes    Medium  \n",
       "4         13   Yes   No       Low  \n",
       "5         16    No  Yes    Medium  \n",
       "6         15   Yes   No    Medium  "
      ]
     },
     "execution_count": 50,
     "metadata": {},
     "output_type": "execute_result"
    }
   ],
   "source": [
    "company.head(7)"
   ]
  },
  {
   "cell_type": "code",
   "execution_count": 51,
   "id": "91def4ef",
   "metadata": {},
   "outputs": [
    {
     "data": {
      "text/html": [
       "<div>\n",
       "<style scoped>\n",
       "    .dataframe tbody tr th:only-of-type {\n",
       "        vertical-align: middle;\n",
       "    }\n",
       "\n",
       "    .dataframe tbody tr th {\n",
       "        vertical-align: top;\n",
       "    }\n",
       "\n",
       "    .dataframe thead th {\n",
       "        text-align: right;\n",
       "    }\n",
       "</style>\n",
       "<table border=\"1\" class=\"dataframe\">\n",
       "  <thead>\n",
       "    <tr style=\"text-align: right;\">\n",
       "      <th></th>\n",
       "      <th>Sales</th>\n",
       "      <th>CompPrice</th>\n",
       "      <th>Income</th>\n",
       "      <th>Advertising</th>\n",
       "      <th>Population</th>\n",
       "      <th>Price</th>\n",
       "      <th>Age</th>\n",
       "      <th>Education</th>\n",
       "    </tr>\n",
       "  </thead>\n",
       "  <tbody>\n",
       "    <tr>\n",
       "      <th>count</th>\n",
       "      <td>400.000000</td>\n",
       "      <td>400.000000</td>\n",
       "      <td>400.000000</td>\n",
       "      <td>400.000000</td>\n",
       "      <td>400.000000</td>\n",
       "      <td>400.000000</td>\n",
       "      <td>400.000000</td>\n",
       "      <td>400.000000</td>\n",
       "    </tr>\n",
       "    <tr>\n",
       "      <th>mean</th>\n",
       "      <td>7.496325</td>\n",
       "      <td>124.975000</td>\n",
       "      <td>68.657500</td>\n",
       "      <td>6.635000</td>\n",
       "      <td>264.840000</td>\n",
       "      <td>115.795000</td>\n",
       "      <td>53.322500</td>\n",
       "      <td>13.900000</td>\n",
       "    </tr>\n",
       "    <tr>\n",
       "      <th>std</th>\n",
       "      <td>2.824115</td>\n",
       "      <td>15.334512</td>\n",
       "      <td>27.986037</td>\n",
       "      <td>6.650364</td>\n",
       "      <td>147.376436</td>\n",
       "      <td>23.676664</td>\n",
       "      <td>16.200297</td>\n",
       "      <td>2.620528</td>\n",
       "    </tr>\n",
       "    <tr>\n",
       "      <th>min</th>\n",
       "      <td>0.000000</td>\n",
       "      <td>77.000000</td>\n",
       "      <td>21.000000</td>\n",
       "      <td>0.000000</td>\n",
       "      <td>10.000000</td>\n",
       "      <td>24.000000</td>\n",
       "      <td>25.000000</td>\n",
       "      <td>10.000000</td>\n",
       "    </tr>\n",
       "    <tr>\n",
       "      <th>25%</th>\n",
       "      <td>5.390000</td>\n",
       "      <td>115.000000</td>\n",
       "      <td>42.750000</td>\n",
       "      <td>0.000000</td>\n",
       "      <td>139.000000</td>\n",
       "      <td>100.000000</td>\n",
       "      <td>39.750000</td>\n",
       "      <td>12.000000</td>\n",
       "    </tr>\n",
       "    <tr>\n",
       "      <th>50%</th>\n",
       "      <td>7.490000</td>\n",
       "      <td>125.000000</td>\n",
       "      <td>69.000000</td>\n",
       "      <td>5.000000</td>\n",
       "      <td>272.000000</td>\n",
       "      <td>117.000000</td>\n",
       "      <td>54.500000</td>\n",
       "      <td>14.000000</td>\n",
       "    </tr>\n",
       "    <tr>\n",
       "      <th>75%</th>\n",
       "      <td>9.320000</td>\n",
       "      <td>135.000000</td>\n",
       "      <td>91.000000</td>\n",
       "      <td>12.000000</td>\n",
       "      <td>398.500000</td>\n",
       "      <td>131.000000</td>\n",
       "      <td>66.000000</td>\n",
       "      <td>16.000000</td>\n",
       "    </tr>\n",
       "    <tr>\n",
       "      <th>max</th>\n",
       "      <td>16.270000</td>\n",
       "      <td>175.000000</td>\n",
       "      <td>120.000000</td>\n",
       "      <td>29.000000</td>\n",
       "      <td>509.000000</td>\n",
       "      <td>191.000000</td>\n",
       "      <td>80.000000</td>\n",
       "      <td>18.000000</td>\n",
       "    </tr>\n",
       "  </tbody>\n",
       "</table>\n",
       "</div>"
      ],
      "text/plain": [
       "            Sales   CompPrice      Income  Advertising  Population  \\\n",
       "count  400.000000  400.000000  400.000000   400.000000  400.000000   \n",
       "mean     7.496325  124.975000   68.657500     6.635000  264.840000   \n",
       "std      2.824115   15.334512   27.986037     6.650364  147.376436   \n",
       "min      0.000000   77.000000   21.000000     0.000000   10.000000   \n",
       "25%      5.390000  115.000000   42.750000     0.000000  139.000000   \n",
       "50%      7.490000  125.000000   69.000000     5.000000  272.000000   \n",
       "75%      9.320000  135.000000   91.000000    12.000000  398.500000   \n",
       "max     16.270000  175.000000  120.000000    29.000000  509.000000   \n",
       "\n",
       "            Price         Age   Education  \n",
       "count  400.000000  400.000000  400.000000  \n",
       "mean   115.795000   53.322500   13.900000  \n",
       "std     23.676664   16.200297    2.620528  \n",
       "min     24.000000   25.000000   10.000000  \n",
       "25%    100.000000   39.750000   12.000000  \n",
       "50%    117.000000   54.500000   14.000000  \n",
       "75%    131.000000   66.000000   16.000000  \n",
       "max    191.000000   80.000000   18.000000  "
      ]
     },
     "execution_count": 51,
     "metadata": {},
     "output_type": "execute_result"
    }
   ],
   "source": [
    "company.describe()"
   ]
  },
  {
   "cell_type": "code",
   "execution_count": 52,
   "id": "cbd8586b",
   "metadata": {},
   "outputs": [
    {
     "name": "stdout",
     "output_type": "stream",
     "text": [
      "<class 'pandas.core.frame.DataFrame'>\n",
      "RangeIndex: 400 entries, 0 to 399\n",
      "Data columns (total 12 columns):\n",
      " #   Column       Non-Null Count  Dtype   \n",
      "---  ------       --------------  -----   \n",
      " 0   Sales        400 non-null    float64 \n",
      " 1   CompPrice    400 non-null    int64   \n",
      " 2   Income       400 non-null    int64   \n",
      " 3   Advertising  400 non-null    int64   \n",
      " 4   Population   400 non-null    int64   \n",
      " 5   Price        400 non-null    int64   \n",
      " 6   ShelveLoc    400 non-null    object  \n",
      " 7   Age          400 non-null    int64   \n",
      " 8   Education    400 non-null    int64   \n",
      " 9   Urban        400 non-null    object  \n",
      " 10  US           400 non-null    object  \n",
      " 11  Sales_bin    400 non-null    category\n",
      "dtypes: category(1), float64(1), int64(7), object(3)\n",
      "memory usage: 35.0+ KB\n"
     ]
    }
   ],
   "source": [
    "company.info()"
   ]
  },
  {
   "cell_type": "code",
   "execution_count": 53,
   "id": "de72ba03",
   "metadata": {},
   "outputs": [
    {
     "data": {
      "text/plain": [
       "Sales          0\n",
       "CompPrice      0\n",
       "Income         0\n",
       "Advertising    0\n",
       "Population     0\n",
       "Price          0\n",
       "ShelveLoc      0\n",
       "Age            0\n",
       "Education      0\n",
       "Urban          0\n",
       "US             0\n",
       "Sales_bin      0\n",
       "dtype: int64"
      ]
     },
     "execution_count": 53,
     "metadata": {},
     "output_type": "execute_result"
    }
   ],
   "source": [
    "company.isnull().sum()"
   ]
  },
  {
   "cell_type": "code",
   "execution_count": 54,
   "id": "dbecff81",
   "metadata": {},
   "outputs": [
    {
     "data": {
      "text/plain": [
       "(400, 12)"
      ]
     },
     "execution_count": 54,
     "metadata": {},
     "output_type": "execute_result"
    }
   ],
   "source": [
    "company.shape"
   ]
  },
  {
   "cell_type": "code",
   "execution_count": 56,
   "id": "d9404422",
   "metadata": {},
   "outputs": [
    {
     "data": {
      "text/plain": [
       "Yes    258\n",
       "No     142\n",
       "Name: US, dtype: int64"
      ]
     },
     "execution_count": 56,
     "metadata": {},
     "output_type": "execute_result"
    }
   ],
   "source": [
    "company[\"US\"].value_counts()"
   ]
  },
  {
   "cell_type": "code",
   "execution_count": 57,
   "id": "02ab6c77",
   "metadata": {},
   "outputs": [
    {
     "data": {
      "text/plain": [
       "Yes    282\n",
       "No     118\n",
       "Name: Urban, dtype: int64"
      ]
     },
     "execution_count": 57,
     "metadata": {},
     "output_type": "execute_result"
    }
   ],
   "source": [
    "company[\"Urban\"].value_counts()"
   ]
  },
  {
   "cell_type": "code",
   "execution_count": 58,
   "id": "9f6fdc7a",
   "metadata": {},
   "outputs": [
    {
     "data": {
      "text/plain": [
       "Medium    219\n",
       "Bad        96\n",
       "Good       85\n",
       "Name: ShelveLoc, dtype: int64"
      ]
     },
     "execution_count": 58,
     "metadata": {},
     "output_type": "execute_result"
    }
   ],
   "source": [
    "company[\"ShelveLoc\"].value_counts()"
   ]
  },
  {
   "cell_type": "markdown",
   "id": "aac8042c",
   "metadata": {},
   "source": [
    "### Performing Feature Engineering"
   ]
  },
  {
   "cell_type": "code",
   "execution_count": 59,
   "id": "0625f9a6",
   "metadata": {},
   "outputs": [],
   "source": [
    "company=company.drop((\"Sales\"),axis=1)"
   ]
  },
  {
   "cell_type": "markdown",
   "id": "31efafdd",
   "metadata": {},
   "source": [
    "### Label Encoding"
   ]
  },
  {
   "cell_type": "code",
   "execution_count": 60,
   "id": "29016cb9",
   "metadata": {},
   "outputs": [],
   "source": [
    "label_encoder = preprocessing.LabelEncoder()"
   ]
  },
  {
   "cell_type": "code",
   "execution_count": 61,
   "id": "1e83a882",
   "metadata": {},
   "outputs": [],
   "source": [
    "company['ShelveLoc']= label_encoder.fit_transform(company['ShelveLoc']) \n",
    "company['Urban']= label_encoder.fit_transform(company['Urban'])\n",
    "company['US']= label_encoder.fit_transform(company['US']) \n",
    "company['Sales_bin']=label_encoder.fit_transform(company['Sales_bin'])"
   ]
  },
  {
   "cell_type": "code",
   "execution_count": 62,
   "id": "7f4d9728",
   "metadata": {},
   "outputs": [],
   "source": [
    "# Splitting the data into Training and Testing\n",
    "X = company.iloc[:, 0:-1]\n",
    "y = company.iloc[:, -1]"
   ]
  },
  {
   "cell_type": "code",
   "execution_count": 63,
   "id": "56d6a2d4",
   "metadata": {},
   "outputs": [],
   "source": [
    "X_train, X_test, y_train, y_test = train_test_split(X, y, test_size = 0.3, random_state = 10)"
   ]
  },
  {
   "cell_type": "markdown",
   "id": "a2de95e1",
   "metadata": {},
   "source": [
    "### Model Building\n",
    "#### Random Forest Classifier"
   ]
  },
  {
   "cell_type": "code",
   "execution_count": 64,
   "id": "f72cf38a",
   "metadata": {},
   "outputs": [],
   "source": [
    "num_trees = 100\n",
    "max_features = 6\n",
    "first_model = RandomForestClassifier(n_estimators=num_trees,max_features=max_features)"
   ]
  },
  {
   "cell_type": "code",
   "execution_count": 65,
   "id": "6f7f586c",
   "metadata": {},
   "outputs": [
    {
     "name": "stdout",
     "output_type": "stream",
     "text": [
      "Accuracy is: 0.7535714285714286\n"
     ]
    }
   ],
   "source": [
    "# Evaluate the base model(without hypertuning)\n",
    "from sklearn.model_selection import StratifiedKFold\n",
    "cv = StratifiedKFold(n_splits=10,shuffle=True)\n",
    "result = cross_val_score(first_model, X_train, y_train,cv=cv)\n",
    "print(\"Accuracy is:\",np.mean(result))"
   ]
  },
  {
   "cell_type": "markdown",
   "id": "67c0c28f",
   "metadata": {},
   "source": [
    "### Inference:\n",
    "The output reveals that the base model's average accuracy is roughly 0.7535, or 75.35%, without any hyperparameter adjustment."
   ]
  },
  {
   "cell_type": "code",
   "execution_count": 66,
   "id": "58e1b5c3",
   "metadata": {},
   "outputs": [],
   "source": [
    "# Iterating over a range of folds in StratifiedKFold\n",
    "mean_accuracy=[]\n",
    "n_folds=[]\n",
    "\n",
    "for i in range(2,15):\n",
    "    cv2=StratifiedKFold(n_splits=i,shuffle=True,random_state=20)\n",
    "    result = cross_val_score(first_model, X_train, y_train, cv=cv2)\n",
    "    avg=np.mean(result)\n",
    "    mean_accuracy.append(avg)\n",
    "    n_folds.append(i)"
   ]
  },
  {
   "cell_type": "markdown",
   "id": "1a801999",
   "metadata": {},
   "source": [
    "### Visualization"
   ]
  },
  {
   "cell_type": "code",
   "execution_count": 67,
   "id": "b348ea86",
   "metadata": {},
   "outputs": [
    {
     "data": {
      "text/plain": [
       "<Axes: >"
      ]
     },
     "execution_count": 67,
     "metadata": {},
     "output_type": "execute_result"
    },
    {
     "data": {
      "image/png": "[encoded data removed]",
      "text/plain": [
       "<Figure size 640x480 with 1 Axes>"
      ]
     },
     "metadata": {},
     "output_type": "display_data"
    }
   ],
   "source": [
    "import seaborn as sns\n",
    "sns.lineplot(x=n_folds,y=mean_accuracy)"
   ]
  },
  {
   "cell_type": "markdown",
   "id": "0eaeb927",
   "metadata": {},
   "source": [
    "### Fitting the Model"
   ]
  },
  {
   "cell_type": "code",
   "execution_count": 68,
   "id": "5d712adb",
   "metadata": {},
   "outputs": [
    {
     "data": {
      "text/plain": [
       "array([0.11946209, 0.0820769 , 0.07461782, 0.10424822, 0.23828945,\n",
       "       0.195794  , 0.11355685, 0.04491521, 0.01450989, 0.01252957])"
      ]
     },
     "execution_count": 68,
     "metadata": {},
     "output_type": "execute_result"
    }
   ],
   "source": [
    "first_model.fit(X_train,y_train)\n",
    "first_model.feature_importances_"
   ]
  },
  {
   "cell_type": "markdown",
   "id": "f4733f93",
   "metadata": {},
   "source": [
    "### Inference:\n",
    "The relevance of each individual characteristic in the dataset is represented by a value in the array. The more significant a trait is in making predictions, the greater the value.\n",
    "\n",
    "The dataset used to train the model comprises 10 features, based on the length of the feature importances array, which is 10.\n",
    "\n",
    "\n",
    "The feature importances are displayed in the dataset's features' original order. For instance, the importance of the first characteristic is represented by the first number (0.11662775), the second value (0.08453248) by the importance of the second feature, and so on.\n"
   ]
  },
  {
   "cell_type": "code",
   "execution_count": 69,
   "id": "2022269e",
   "metadata": {},
   "outputs": [],
   "source": [
    "# Finding Important Features"
   ]
  },
  {
   "cell_type": "code",
   "execution_count": 70,
   "id": "f05778c3",
   "metadata": {},
   "outputs": [
    {
     "data": {
      "text/plain": [
       "Price          0.238289\n",
       "ShelveLoc      0.195794\n",
       "CompPrice      0.119462\n",
       "Age            0.113557\n",
       "Population     0.104248\n",
       "Income         0.082077\n",
       "Advertising    0.074618\n",
       "Education      0.044915\n",
       "Urban          0.014510\n",
       "US             0.012530\n",
       "dtype: float64"
      ]
     },
     "execution_count": 70,
     "metadata": {},
     "output_type": "execute_result"
    }
   ],
   "source": [
    "cols=['CompPrice', 'Income', 'Advertising', 'Population', 'Price','ShelveLoc', 'Age', 'Education', 'Urban','US']\n",
    "feature_imp=pd.Series(first_model.feature_importances_,index=cols).sort_values(ascending=False)\n",
    "feature_imp"
   ]
  },
  {
   "cell_type": "markdown",
   "id": "feeed1ad",
   "metadata": {},
   "source": [
    "### Visualization"
   ]
  },
  {
   "cell_type": "code",
   "execution_count": 71,
   "id": "63ecb6e7",
   "metadata": {},
   "outputs": [
    {
     "data": {
      "image/png": "[encoded data removed]",
      "text/plain": [
       "<Figure size 640x480 with 1 Axes>"
      ]
     },
     "metadata": {},
     "output_type": "display_data"
    }
   ],
   "source": [
    "# Creating a bar plot\n",
    "sns.barplot(y=feature_imp, x=feature_imp.index)\n",
    "# Add labels to your graph\n",
    "plt.ylabel('Feature Importance Score')\n",
    "plt.xlabel('Features')\n",
    "plt.xticks(rotation=90)\n",
    "plt.title(\"Visualizing Important Features\")\n",
    "plt.show()"
   ]
  },
  {
   "cell_type": "markdown",
   "id": "74502a26",
   "metadata": {},
   "source": [
    "### Prediction"
   ]
  },
  {
   "cell_type": "code",
   "execution_count": 72,
   "id": "fed3de65",
   "metadata": {},
   "outputs": [
    {
     "data": {
      "text/plain": [
       "2    96\n",
       "1    20\n",
       "0     4\n",
       "dtype: int64"
      ]
     },
     "execution_count": 72,
     "metadata": {},
     "output_type": "execute_result"
    }
   ],
   "source": [
    "pred_first = first_model.predict(X_test) \n",
    "pd.Series(pred_first).value_counts()"
   ]
  },
  {
   "cell_type": "code",
   "execution_count": 73,
   "id": "1f2b572c",
   "metadata": {},
   "outputs": [
    {
     "data": {
      "text/plain": [
       "0.6666666666666666"
      ]
     },
     "execution_count": 73,
     "metadata": {},
     "output_type": "execute_result"
    }
   ],
   "source": [
    "# Accuracy\n",
    "from sklearn import metrics\n",
    "metrics.accuracy_score(pred_first,y_test)"
   ]
  },
  {
   "cell_type": "markdown",
   "id": "7da4133f",
   "metadata": {},
   "source": [
    "### Inference:\n",
    "The estimated accuracy score is 0.6742, or 67.42%.\n",
    "\n",
    "According to this data, the \"first_model\"'s predictions on the test data were accurate to a degree of approximately 67.42%. The percentage of accurate forecasts among all made predictions is represented by the accuracy score. It's crucial to remember that accuracy might not give a whole picture of model performance, particularly if the target variable's classes are imbalanced or if there are other evaluation metrics to take into account.\n"
   ]
  },
  {
   "cell_type": "code",
   "execution_count": 74,
   "id": "9ada6b56",
   "metadata": {},
   "outputs": [
    {
     "name": "stdout",
     "output_type": "stream",
     "text": [
      "              precision    recall  f1-score   support\n",
      "\n",
      "           0       0.50      0.12      0.19        17\n",
      "           1       0.55      0.44      0.49        25\n",
      "           2       0.70      0.86      0.77        78\n",
      "\n",
      "    accuracy                           0.67       120\n",
      "   macro avg       0.58      0.47      0.48       120\n",
      "weighted avg       0.64      0.67      0.63       120\n",
      "\n"
     ]
    }
   ],
   "source": [
    "from sklearn.metrics import classification_report\n",
    "print(classification_report(y_test,pred_first))"
   ]
  },
  {
   "cell_type": "markdown",
   "id": "a783509d",
   "metadata": {},
   "source": [
    "### Inference:\n",
    "Performance indicators are provided for each class in the target variable in the classification report. There are three classes here, denoted by the numbers 0, 1, and 2.\n",
    "\n",
    "Out of all positive predictions made for each class, the \"precision\" counts the percentage of real positive predictions. Fewer false positives are indicative of higher precision.\n",
    "\n",
    "The \"recall\" (sometimes referred to as the \"sensitivity\" or \"true positive rate\") calculates the percentage of true positive predictions for each class out of all real positive instances. Fewer false negatives are indicated by higher recall.\n",
    "\n",
    "The \"f1-score\" provides a balanced measurement of both metrics and is the harmonic mean of precision and recall. It provides a general evaluation of a model's effectiveness for each class.\n",
    "\n",
    "The \"support\" in the test data represents the number of samples in each class.\n",
    "\n",
    "The \"accuracy\" refers to the model's overall performance on the test data, as was previously discussed.\n",
    "\n",
    "The average marks for each class are the \"macro avg\" and \"weighted avg.\" The \"weighted avg\" takes into account class imbalance by taking the amount of samples into account while the \"macro avg\" assigns equal weight to each class.\n",
    "\n",
    "According to the classification report, we can see that:\n",
    "\n",
    "Class 0 has the lowest recall (0.22) and precision (0.57), showing that the model has difficulty correctly predicting this class.\n",
    "\n",
    "Class 1 has a moderate performance in class prediction, as seen by its generally balanced precision (0.55) and recall (0.44).\n",
    "\n",
    "Class 2 has the best performance in predicting this class, with the highest precision (0.72) and recall (0.81).\n",
    "\n",
    "As was already established, the model's overall accuracy on the test data is 0.67.\n"
   ]
  },
  {
   "cell_type": "code",
   "execution_count": 75,
   "id": "35d0ea2a",
   "metadata": {},
   "outputs": [
    {
     "data": {
      "text/plain": [
       "array([[ 2,  0, 15],\n",
       "       [ 0, 11, 14],\n",
       "       [ 2,  9, 67]], dtype=int64)"
      ]
     },
     "execution_count": 75,
     "metadata": {},
     "output_type": "execute_result"
    }
   ],
   "source": [
    "confusion_matrix(y_test,pred_first)"
   ]
  },
  {
   "cell_type": "markdown",
   "id": "9c18b53f",
   "metadata": {},
   "source": [
    "### Inference:\n",
    "The number of samples that were properly or wrongly predicted for each class is counted in the confusion matrix, a table that summarises the effectiveness of a classification model.\n",
    "\n",
    "The genuine classes are represented by the rows in the confusion matrix, while the anticipated classes are represented by the columns.\n",
    "\n",
    "As there are three classes (0, 1, and 2) in the target variable, the confusion matrix in this instance is a 3x3 matrix.\n",
    "\n",
    "The confusion matrix can be interpreted as follows:\n",
    "\n",
    "For class 0, the model predicted 4 samples correctly (true negatives), 14 samples wrongly (false positives) as class 2, and did not predict any samples (false negatives) as class 1.\n",
    "\n",
    "The model correctly identified 15 samples as belonging to class 1 (true positives), misidentified 13 samples as belonging to class 2 (false positives), and failed to identify any samples as belonging to class 0 (false negatives) for class 1.\n",
    "\n",
    "In the case of class 2, the model properly identified 70 samples (true positives), falsely identified 3 samples as class 0 (false positives), and falsely identified 13 samples as class 1 (false positives).\n",
    "\n",
    "You may pinpoint specific areas where the model may perform poorly or well by using the confusion matrix, which offers a more thorough assessment of the model's performance for each class.\n"
   ]
  },
  {
   "cell_type": "code",
   "execution_count": null,
   "id": "da461e9d",
   "metadata": {},
   "outputs": [],
   "source": []
  }
 ],
 "metadata": {
  "kernelspec": {
   "display_name": "Python 3 (ipykernel)",
   "language": "python",
   "name": "python3"
  },
  "language_info": {
   "codemirror_mode": {
    "name": "ipython",
    "version": 3
   },
   "file_extension": ".py",
   "mimetype": "text/x-python",
   "name": "python",
   "nbconvert_exporter": "python",
   "pygments_lexer": "ipython3",
   "version": "3.8.16"
  }
 },
 "nbformat": 4,
 "nbformat_minor": 5
}
